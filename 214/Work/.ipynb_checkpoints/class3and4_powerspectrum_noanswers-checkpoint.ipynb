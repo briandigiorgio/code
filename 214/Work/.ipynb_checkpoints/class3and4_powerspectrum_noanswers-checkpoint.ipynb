{
 "cells": [
  {
   "cell_type": "markdown",
   "metadata": {
    "slideshow": {
     "slide_type": "slide"
    }
   },
   "source": [
    "# Evolution in the Linear Regime\n"
   ]
  },
  {
   "cell_type": "markdown",
   "metadata": {},
   "source": [
    "Also read Chaper 8 & 11 in Ryden's book and Chapter 2 in Andrey's notes.\n",
    "The most complete treatement can be found in __Section 4.1 of MvdBW.__\n",
    "\n",
    "The next two classes will be covering these (more detailed) lectures from Frank van den Bosh: \n",
    "* http://www.astro.yale.edu/vdbosch/astro610_lecture4.pdf\n",
    "* http://www.astro.yale.edu/vdbosch/astro610_lecture5.pdf\n",
    "* http://www.astro.yale.edu/vdbosch/astro610_lecture6.pdf\n",
    "* http://www.astro.yale.edu/vdbosch/astro610_lecture7.pdf\n",
    "\n",
    "We will be summarizing the above into two lectures. \n",
    "Please refer to the PDFs above, and to MvdBW, for further details."
   ]
  },
  {
   "cell_type": "markdown",
   "metadata": {},
   "source": [
    "## Preambule: Newtonian perturbation theory in the linear regime\n",
    "\n",
    "In the last lecture, we discussed how the effects of gravity, acting on very small perturbations that are present in the early universe, lead to the large scale structure that we see today. The goal of this class is to describe the evolution of the initial perturbations as a function of time under two conditions:\n",
    "\n",
    "* the linear regime $\\delta <<1$\n",
    "* structures with sizes smaller than the horizon size\n",
    "\n",
    "The non linear regime will be treated in classes 5 and 6. The second condition means that we will use Newtonian dynamics and our computation will not require a relativistic treatment. We will describe the evolution of the density field in fourier space and we will find that certain modes are amplified, while other modes are damped. The goal of this class will be to gain a __qualitative__ understanding of this evolution. At the end of the day, these effects will be captured by a __transfer function__ which will describe the changes in the amplitudes of the fourier modes.\n"
   ]
  },
  {
   "cell_type": "markdown",
   "metadata": {},
   "source": [
    "Video of the redshift evolution of the power spectrum:\n",
    "\n",
    "http://www.astro.ljmu.ac.uk/~ikb/teaching/fluctuation-evolve.html\n",
    "\n",
    "Beware in this movie: \n",
    "* The comoving wavenumber k has units of [Mpc]$^{-1}$. \n",
    "    - Small values of k = large scales\n",
    "    - Large values of k = small scales\n",
    "* Here, the x-axis that is plotted is $\\pi/k$ so this is proportional to the comoving wavelength.\n",
    "    - Small values = small scales\n",
    "    - Large values = large scales\n",
    "    \n",
    "For now just observe:\n",
    "* The quantities plotted on the x and y axis\n",
    "* Progression of z and the age of the universe"
   ]
  },
  {
   "cell_type": "markdown",
   "metadata": {},
   "source": [
    "## The \"Master Equation\" Describing the Evolution of Perturbations"
   ]
  },
  {
   "cell_type": "markdown",
   "metadata": {},
   "source": [
    "Goal: we will now look at how the primordial perturbations grow in a FRW metric (in expanding space time). We will derive the \"Master equation\" (to use Franck vdB's terminology, and for lack of a better name!)\n",
    "\n",
    "The description below corresponds to Newtonian perturbation theory in the linear regime.\n",
    "* linear regime: this means that the perturbations are small $\\delta <<1$\n",
    "* Newtonian regime: this means that we are considering perturbations with sizes smaller than the particle horizon - there are regions that are causually connected. For perturbations on scales later than the horizon, a relativistic tretement is necessary and will not be treated in this class.\n",
    "\n",
    "(in short, we are only considering perturbations that are neither too small, nor too large)\n",
    "\n",
    "$\\delta < 1$: can linearise the equations and describe the growth of linear perturbations\n",
    "\n",
    "$\\delta > 1$: solve the equations numerically (N-body simulations)\n",
    "\n",
    "In the previous class we stated that inflation leads to a primordial power spectrum with the form $P(k) \\propto k^n$. The evolutions of these perturbations will modify the power spectrum as a function of time. Some fourier \"modes\" will amplified (they will grow) while others ar damped (their growth will be stalled). The evolution of this power spectrum will be described by the *linear transfer function*. By applying the linear transfer function to the primordial power sepctrum we will be able to compute the linear power spectrum at later times.\n",
    "\n",
    "For most of your work, much of the following two lectures in practice will be hidden when you call the magic \"transfer function\". But it is still important to understand what is going on in this early phase of the universe.\n"
   ]
  },
  {
   "cell_type": "markdown",
   "metadata": {},
   "source": [
    "<img width=800 align=left src=\"slidesfigs/astro610_lecture4-05.png\"></img>"
   ]
  },
  {
   "cell_type": "markdown",
   "metadata": {},
   "source": [
    "What equations will be use to compute the evolution of $\\delta$?\n",
    "\n",
    "*We will describe $\\delta$ using the Fluid Equations*\n",
    "\n",
    "(note: the \"fluid\" that we are considering here corresponds to a mixture of baryons, photons, and dark matter)"
   ]
  },
  {
   "cell_type": "markdown",
   "metadata": {},
   "source": [
    "<img width=800 align=left src=\"slidesfigs/astro610_lecture4-08.png\"></img>"
   ]
  },
  {
   "cell_type": "markdown",
   "metadata": {},
   "source": [
    "* Continuity equation: conservation of mass\n",
    "* Euler equation: conservation of momentum\n",
    "* Poisson equation: relates the gravitational potential $\\phi$ (scalar field) to the density field $\\rho$\n",
    "\n",
    "Note: \n",
    "* the operator in the Poisson equation is the <a href=\"https://en.wikipedia.org/wiki/Laplace_operator\">Laplace operator</a>\n",
    "* in Frank's notation, the operator $\\nabla_r$ refers to the nabla operator considered in proper units (hence the 'r' subscript) where $r=a(t) \\times \\chi$."
   ]
  },
  {
   "cell_type": "markdown",
   "metadata": {},
   "source": [
    "To get the \"Master Equation\" (just to be clear, this is not an official name!), one needs to take the following steps:\n",
    "* coordinate transformation to use comoving coordinates - this will be more appropriate for an expanding space time\n",
    "* express $\\rho$ as a function of density perturbation against the background, $\\delta$.\n",
    "\n",
    "$\\rho=\\overline{\\rho}[1+\\delta]$\n",
    "\n",
    "* use the fact that the mean density of the universe scale as $\\overline{\\rho} \\propto a^{-3}$ (note that this is only valid assuming that the matter content in the Universe is a non relativisitc fluid, but this can be expanded to include cases in which the Universe also contains relativisitc particles such as photons and neutrinos, and vacuum energy)\n",
    "\n",
    "However, so far, we have more variables than equations: further information is needed to close the set of equations.\n",
    "\n",
    "* in addition to the fluid equations, and the poisson equation, we also add an equation of state (EoS). We will assume that our fluid follows the ideal gas law (relating Pressure, temperature, and energy density)\n",
    "\n",
    "And then finally:\n",
    "\n",
    "* one linearizes these sets of equations. This means that one assumes that $\\rho$, $v$, and $T$ are small, and one discards all higher order terms (such as $\\rho^2$,$v^2$). This step is why we call this \"perturbation theory\".\n",
    "\n",
    "__Perturbation theory__: analytic method employed to find an *approximate solution* to a problem that is too difficult to solve exactly analyticaly. An approximate \"perturbation solution\" is obtained by Taylor expanding variables and then truncating the series, keeping only the higher order terms. First-order perturbation theory or second-order perturbation theory refer to the order at which the series was truncated. The first applications of perturbation theory were for solving problems in celestial mechanics (e.g, the three body problem of the Earth, Sun, and the Moon)."
   ]
  },
  {
   "cell_type": "markdown",
   "metadata": {},
   "source": [
    "We will not details these calculations here, but the full derivation can be found in Chapter 4 of MvdBW."
   ]
  },
  {
   "cell_type": "markdown",
   "metadata": {},
   "source": [
    "<img width=800 align=left src=\"slidesfigs/astro610_lecture4-16.png\"></img>"
   ]
  },
  {
   "cell_type": "markdown",
   "metadata": {},
   "source": [
    "The \"Master Equation\" \n",
    "\n",
    "$$\\ddot{\\delta}+2\\frac{\\dot{a}}{a}\\dot{\\delta}=4\\pi G\\bar{\\rho}\\delta +\\frac{\\bar{c}_s^2}{a^2}\\nabla^2\\delta + \\frac{2\\bar{T}}{3a^2}\\nabla^2 S,$$\n",
    "\n",
    "* $\\delta$: density fluctuation\n",
    "* $a$: scale factor\n",
    "* $S$: entropy\n",
    "* $T$: temperature\n",
    "* $\\bar{c}_s$: speed of sound\n",
    "\n",
    "($\\bar{c}_s$ and temperature $\\bar{T}$ are evaluated at the mean density)"
   ]
  },
  {
   "cell_type": "markdown",
   "metadata": {},
   "source": [
    "This key equation describes how different mechanisms impact the evolution of density perturbations. \n",
    "\n",
    "These equations show that:\n",
    "\n",
    "* The expansion of the universe acts as a damping term ($2\\delta\\dot{a}/a$). The expansion of the universe acts in a way that slows down the collapse of structures.\n",
    "\n",
    "* gravity will try to make perturbations grow (structures will begin to collapse under their own weight)\n",
    "\n",
    "* pressure gradients will also affect growth. Gravitational collapse can be countered by the build-up of a pressure gradients within the perturbation.\n",
    "\n",
    "*(note that will be developped later: for a density fluctuation to be stabalized by presure against collapse, it must be smaller than a length scale called the Jeans Length. Overdense regions larger than the Jeans length collapse under their own gravity. Overdense regions smaller than the Jean's length merely oscillate in density. These oscillations create sounds waves.)*"
   ]
  },
  {
   "cell_type": "markdown",
   "metadata": {},
   "source": [
    "Schematically Speaking:\n",
    "\n",
    "$$\\ddot{\\delta}+Expansion*\\dot{\\delta}= Gravity - Pressure$$\n",
    "\n",
    "if pressure is low, $δ$ can grow\n",
    "if pressure is large , $δ$ oscillates with time.\n",
    "\n",
    "the relevant scale here is called the Jeans length (fluctuations grow if perturbations are longer than $\\lambda_J$ = sound speed/ dynamical time)\n"
   ]
  },
  {
   "cell_type": "markdown",
   "metadata": {},
   "source": [
    "Inflationary models generally predict *Isentropic initial perturbations* (also referred to as adiabatic perturbations). In more clear terms, this means that the initial perturbations are perturbations in *density* ($\\delta \\neq 0$) and these perturbations are the same for all components. Without going into the details, what this means is that we will set $\\nabla^2 S=0$.\n",
    "\n",
    "Let's set $\\nabla^2 S=0$. The equations now becomes similar to the equation for the damped harmonic oscillator (oscillator in which friction slows down the motion of the system)."
   ]
  },
  {
   "cell_type": "markdown",
   "metadata": {},
   "source": [
    "#### The evolution is similar to the solution of damped harmonic oscillator equation:\n",
    "\n",
    "Cosmological perturbations: $$\\ddot{\\delta}+2\\frac{\\dot{a}}{a}\\dot{\\delta}=4\\pi G\\bar{\\rho}\\delta +\\frac{\\nabla^2P}{\\bar{\\rho}a^2},$$\n",
    "\n",
    "\n",
    "Damped harmonic oscillator: $$\\ddot{x} + 2\\zeta w_n\\dot{x}+w_n^2x = 0$$ ($\\zeta$ is the damping term and $w_n$ is the frequency)\n",
    "\n",
    "which has a solution of the form:\n",
    "\n",
    "$$x(t)\\propto \\exp({-b t/2m})\\exp(\\pm i\\omega t)$$\n",
    "\n",
    "You studied damped harmonic oscillators when studying <a href=\"https://en.wikipedia.org/wiki/Damping_ratio#/media/File:Damped_spring.gif\">the movement of a spring</a> with a damping term.\n",
    "\n",
    "<img src=\"https://upload.wikimedia.org/wikipedia/commons/2/2b/Damped_spring.gif\"></img><br>\n",
    "\n",
    "\n",
    "<img src=\"http://background.uchicago.edu/~whu/intermediate/basicoscil.gif\"></img><br>\n",
    "\n",
    "\n",
    "Read this page from <a href=\"http://background.uchicago.edu/~whu/intermediate/gravity.html\">Wayne Hu's tutorial</a>\n"
   ]
  },
  {
   "cell_type": "markdown",
   "metadata": {},
   "source": [
    "## Now let's go to Fourier Space"
   ]
  },
  {
   "cell_type": "markdown",
   "metadata": {},
   "source": [
    "<img width=800 align=left src=\"slidesfigs/astro610_lecture4-17.png\"></img>"
   ]
  },
  {
   "cell_type": "markdown",
   "metadata": {},
   "source": [
    "**TO REMEMBER**: in the linear regime, all modes evolve independently"
   ]
  },
  {
   "cell_type": "markdown",
   "metadata": {},
   "source": [
    "For a more detailed derivation of the \"Master Equation\" see : http://www.astro.yale.edu/vdbosch/astro610_lecture4.pdf "
   ]
  },
  {
   "cell_type": "markdown",
   "metadata": {},
   "source": [
    "Undertanding how perturbations grow with cosmic time will depend on several factors:\n",
    "\n",
    "* which component dominates the expansion of the universe (radiation, matter, dark energy ...). This is important because the *rate* at which the universe expand will depend on which component dominates. This changes the *Hubble drag* term (see above).\n",
    "* wheter the perturbation wavelenth is larger or smaller than the current horizon scale (the horizon scale will vary with time)\n",
    "* Wheter or not a given component (radiation, dark matter, baryonic matter) is subject to pressure terms\n",
    "* If a component is subject to pressure terms, the size of wavelength compared to the Jeans Length"
   ]
  },
  {
   "cell_type": "markdown",
   "metadata": {},
   "source": [
    "The equations that govern the evolution of perturbations are too complicated to solved analaytically. It requires taking all types of matter into account, and following the growth of modes both outside and inside the Horizon. Complete solutions require solving the Boltzmann equation (governing the evolution of a fluid in motion) in an expanding universe. There are a number of codes these days that perform these calculations such as: CMBFAST / CMBEASY / CAMB / CLASS. \n",
    "\n",
    "For most of you, if you need to compute the power spectrum, the details of the evolution of the power spectrum will simply be \"hidden\" in a magic quantity called the *Transfer Function*."
   ]
  },
  {
   "cell_type": "markdown",
   "metadata": {},
   "source": [
    "Note 1: different components (dark matter, baryons) can (and will) collapse on different time scales because they are subject to different pressure forces.\n",
    "\n",
    "Different components in the universe need to be treated differently.\n",
    "* dark matter: affected only by gravity and is collisionless\n",
    "* baryons: coupled to the photons at $z>z_{dec}$ and the baryons and the photons act as a single fluid\n",
    "\n",
    "Fundamental difference between dark matter and baryons: before $z>z_{dec}$, the coupling between baryons and photons provides the baryonic fluid with a pressure that can resist the force of gravity. Hence, perturbations in the baryonic fluid cannot grow in amplitude until $z<z_{dec}$\n",
    "\n",
    "Note 2: remember that in classes 3 and 4, we are still discussing collapes in the *linear regime*. In class 5 we will begin discussing collapse in the *non linear regime* which leads to the formation of dark matter halos. The formation of galaxies is intimately tied to the collapse of baryons and dark matter."
   ]
  },
  {
   "cell_type": "markdown",
   "metadata": {},
   "source": [
    "Different textbooks and lectures simply the problem in different ways:\n",
    "* Andrey's PDF: section 2.2 simply gives a broad overview\n",
    "* Frank's classes: http://www.astro.yale.edu/vdbosch/astro610_lecture5.pdf\n",
    "    - baryons and radiation\n",
    "    - dark matter and radiation\n",
    "    - radiation baryons and dark matter\n",
    "* MvdBW book: most complete treatement \n",
    "\n",
    "Let's look at this video again. This time notice the following:\n",
    "* different component behave differently \n",
    "* different component dominate at different redshifts\n",
    "* at what redshift do matter and radiation contribute equally?\n",
    "http://www.astro.ljmu.ac.uk/~ikb/teaching/fluctuation-evolve.html"
   ]
  },
  {
   "cell_type": "markdown",
   "metadata": {},
   "source": [
    "In this class, we will not go into the details of soliving these equations. Instead, we will opt for a more schematic treatement and understanding of the different effects at play. But I encourage you to work through some of the derivations in MvdBW.\n",
    "\n",
    "However, before we go any further, there are three key concepts that we first need to understand:\n",
    "\n",
    "1) Horizons \n",
    "\n",
    "2) How the expansion rate changes with time - Matter Radiation Equality\n",
    "\n",
    "3) The Jeans Length - the impact of the pressure term"
   ]
  },
  {
   "cell_type": "markdown",
   "metadata": {},
   "source": [
    "## 1) Horizons\n"
   ]
  },
  {
   "cell_type": "markdown",
   "metadata": {},
   "source": [
    "Particle horizon distance: The particle horizon is the maximum **proper distance** (at the time of observation) from which particles could have traveled to the observer in the age of the universe. It represents the boundary between the observable and the unobservable regions of the universe, so its distance at the present epoch defines the size of the observable universe. Due to the expansion of the universe it is *not* simply the age of the universe times the speed of light. The portion of the universe lying within the horizon for a particular observer is referred to as the *visible universe* for that observer. The visible universe consists of all points in space that have had sufficient time to send information, in the form of photons or other relatavisitc particles, to the observer. In other words, the visible universe consists of all points that are *causally connected to the observer*. For derivations of the horizon distance, see page 75-79 (Ch 5.2) in Ryden's book.\n",
    "\n",
    "$$R_h(t_0)=c \\int_{0}^{t0} dt/a(t)$$\n"
   ]
  },
  {
   "cell_type": "markdown",
   "metadata": {},
   "source": [
    "Why do we care about the horizon here? \n",
    "\n",
    "Several reasons:\n",
    "\n",
    "* The general relativisitic effects that are due to the curvature of space time will be negligeable at length scales smaller than the Hubble radius. On smaller scales, we can use Newtonian gravity.\n",
    "    - At $z>z_{enter}$: evolution of perturbations needs to include relativisitc effects\n",
    "    - At $z<z_{enter}$: evolution of perturbations can be studied with Newtonian gravity\n",
    "\n",
    "* Perturbations grow differently depends on wheter or not they have wavelengths smaller or larger than the horizon.\n",
    "* Pertubations with $\\lambda<R_h$ can becomes subject to PRESSURE forces. This is relevent because before recombination, the coupling between baryons and photons provides the baryonic fluid with a pressure that can resist gravity.  Dark matter on the other hand, will not experience this pressure force."
   ]
  },
  {
   "cell_type": "markdown",
   "metadata": {},
   "source": [
    "## 2) How the expansion rate changes with time - Matter Radiation Equality"
   ]
  },
  {
   "cell_type": "markdown",
   "metadata": {},
   "source": [
    "Also see Ch 5 in Ryden"
   ]
  },
  {
   "cell_type": "markdown",
   "metadata": {},
   "source": [
    "Recall that:\n",
    "\n",
    "- non-relativisitic matter energy density changes as $\\rho_m \\propto a^{-3}$\n",
    "- relativisitic matter (such as photons) energy density changes as $\\rho_m \\propto a^{-4}$ (the number density changes as $a^{-3}$ while the energy is redshifted according to $a^{-1}$)\n",
    "- vacuum energy, of the cosmological cosntant $\\Lambda$ whose density is a constant\n",
    "\n",
    "As a result, different components will dominate at different times.\n",
    "\n",
    "We can see this as well when we look at the compact form of the Friedmann equation is: $H(t)=H_0 \\times E(z)$ where the $E(z)$ function is (assuming K=0 or $\\Omega_0=1$):\n",
    "\n",
    "$$E(z)=\\sqrt{\\Omega_{\\Lambda,0}+\\Omega_{M,0}(1+z)^3 + \\Omega_{r,0}(1+z)^4}$$\n",
    "\n",
    "And recall that $a= 1/(1+z)$\n",
    "\n",
    "*Notice the different redshift dependence for different components (dark energy, dark matter, radiation)*\n",
    "\n"
   ]
  },
  {
   "cell_type": "markdown",
   "metadata": {},
   "source": [
    "Which order do they dominate in?\n",
    "\n",
    "=> **Radiation dominates at early times, followed by dark matter, followed by dark energy.**\n",
    "\n",
    "Why do we care here? \n",
    "\n",
    "=> **The expansion rate will change depending on which component dominates. This is turn will impact the Hubble drag term**\n",
    "\n",
    "Question: \n",
    "\n",
    "How do we expect structure formation to change when the universe is deccelerating? When the universe is accelerating?"
   ]
  },
  {
   "cell_type": "markdown",
   "metadata": {},
   "source": [
    "Today: $a_0=1$, $t_0=13.7$ Gyr\n",
    "\n",
    "Today: $\\Omega_{\\Lambda,0}=0.7>\\Omega_{m,0}=0.3$. The cosmological constant is dominant over matter.\n",
    "\n",
    "**Matter-lambda equality** took place at a redshift $z \\sim 0.31$, $a=0.77$,$t=10.2 Gyr$\n",
    "\n",
    "**Radiation-matter equality**: $a=2.9 \\times 10^{-4}$, $t=0.05$ Myr\n",
    "\n",
    "(note that in principle, *recombination*, *photon decoupling*, and *last scaterring surface* are at slighly different redshifts)\n",
    "\n",
    "<table>\n",
    " <tr><th>Event</th><th>Redshift</th><th>Temperature (K)</th><th>Time (Myr)</th> </tr>\n",
    " <tr><td>Radiation Matter Equality</td><td>3440</td><td>9390</td><td>0.05</td></tr>\n",
    "  <tr><td>Recombination</td><td>1380</td><td>3760</td><td>0.25</td></tr>\n",
    "   <tr><td>Photon decoupling</td><td>1090</td><td>2970</td><td>0.37</td></tr>\n",
    "    <tr><td>Last scattering</td><td>1090</td><td>2970</td><td>0.37</td></tr>\n",
    " </table>\n",
    " \n",
    " Recombination (should be *combination*): number density of ions is equal to number density of neutral atoms (roughly speaking, the average CMB photon is no longer able to photoionize hydrogen)\n",
    " \n",
    " Photon decoupling: rate at which the photons scatter from electrons becmes smaller than the Hubble parameter, or mean free path is longer than the Hubble distance (universe becomes transparent)\n",
    " \n",
    " Surface of last scattering: time at which a typical CMB photon underwent its last scaterring with an electron"
   ]
  },
  {
   "cell_type": "markdown",
   "metadata": {},
   "source": [
    "<img width=800 align=center src=\"http://courses.atlas.illinois.edu/spring2010/ASTR/ASTR596/Lectures/Images/Omega_a.jpg\"></img>\n",
    "\n",
    "\n",
    "We live in a universe where radiation ($w=1/3$) was dominant during the early stages, followed by a period when matter ($w=0$) was dominant, followed by a period when the cosmological constant was dominant ($w=-1$) (today)."
   ]
  },
  {
   "cell_type": "markdown",
   "metadata": {},
   "source": [
    "Radiation-Matter Equality: $$z_{eq}\\sim3600$$\n",
    "\n",
    "$$z<z_{eq}, a(t)\\propto t^{2/3}$$\n",
    "\n",
    "$$z>z_{eq}, a(t)\\propto t^{1/2}$$\n",
    "\n",
    "Until Dark Energy takes over at low redshifts.\n",
    "\n",
    "(and recall, when DE takes over, the expansion begins to accelerate).\n",
    "\n",
    "The universe grows more slowly after $z_{eq}$ (the relativistic component does not contribute much and there is less energy density to slow down the expansion)"
   ]
  },
  {
   "cell_type": "markdown",
   "metadata": {},
   "source": [
    "** Exercice **\n",
    "\n",
    "Do perturbations grow faster before $z_{eq}$ or after $z_{eq}$? "
   ]
  },
  {
   "cell_type": "markdown",
   "metadata": {},
   "source": [
    "<img width=500 align=left src=\"slidesfigs/your_turn.JPG\"></img>"
   ]
  },
  {
   "cell_type": "markdown",
   "metadata": {},
   "source": [
    "** Answer **\n"
   ]
  },
  {
   "cell_type": "markdown",
   "metadata": {},
   "source": [
    "After the end of inflation, the perturbations that correspond to the formation of structres in the universe today (those corresponding to the scales of galaxies, clusters, and super clusters), all have wavelengths *larger than the horizon*.\n",
    "\n",
    "After the inflation ends, the expansion starts to deccelerate, and H(t) decreases.\n"
   ]
  },
  {
   "cell_type": "markdown",
   "metadata": {},
   "source": [
    "** Exercice:** \n",
    "    - how does the horizon scale change with time (inceases or decreases)?\n",
    "    - how does the wavelength of a perturbation change with time (inceases or decreases)?\n",
    "    - how does $\\lambda/R_h$ change with time (inceases or decreases)?"
   ]
  },
  {
   "cell_type": "markdown",
   "metadata": {},
   "source": [
    "<img width=500 align=left src=\"slidesfigs/your_turn.JPG\"></img>"
   ]
  },
  {
   "cell_type": "markdown",
   "metadata": {},
   "source": [
    "Answer: \n"
   ]
  },
  {
   "cell_type": "markdown",
   "metadata": {},
   "source": [
    "** Perturbations are said to enter the horizon when  $\\lambda/R_h<1$, when the wavelength of the perturbation becomes smaller than the horizon. When $\\lambda/R_h<1$ can \"feel\" their own gravity which can counteract the effects of the expansion.**\n",
    "\n",
    "Think of the same physics that happens in the Sun. The size of the sun is set by a competition between the force of gravity (wants to make the sun collapse) and the force of pressure (preventing the sun from collapsing). \n"
   ]
  },
  {
   "cell_type": "markdown",
   "metadata": {},
   "source": [
    "Let's look at this video again. This time notice the following:\n",
    "\n",
    "* how does the horizon scale vary with time? \n",
    "    - above dashed lines: super horizon scales. We will not discuss how perturbations grow on super horizon scales. We will simply say (incomplete explanation) that on super horizon scales, perturbations don't feel the effects of gravity (there is no gravity term in the Master equation)\n",
    "    - on super horizon scales, all components grow in lock step. These super horizon perturbations are not subject to the gravitatinal term nor the pressure term in the \"Master equation\"\n",
    "    - below dashed lines: sub horizon scales\n",
    "\n",
    "\n",
    "\"Master Equation\":\n",
    "\n",
    "$$\\ddot{\\delta}+2\\frac{\\dot{a}}{a}\\dot{\\delta}=4\\pi G\\bar{\\rho}\\delta +\\frac{\\bar{c}_s^2}{a^2}\\nabla^2\\delta + \\frac{2\\bar{T}}{3a^2}\\nabla^2 S,$$\n",
    "\n",
    "    \n",
    "* compare the amplitude of P(k) below the horizon scale to the initial power spectrum (blue versus dotted black line). \n",
    "    - the growth of the DM component (blue) is different below and above super horizon scales\n",
    "    - the baryons and radiation have \"wiggles\" (these are the famous BAO!) - we will come back to this later\n",
    "        \n",
    "        \n",
    "* Pause the video at $z=3000$: notice that this is roughly at matter radiation equality. The time preceeding $z_{eq}$ is the radiation dominated era. The time following $z_{eq}$ is the matter dominated era.\n",
    "    - notice that the bend in the power spectrum is equal to the size of the horizon at $z_{eq}$\n",
    "    - before $z_{eq}$ the growth of DM perturbations on scales below the horizon is basically stalled (the Mezaros effect). Watch the speed of the left hand arrow on the blue curve.\n",
    "    - now go forward in time: notice that the growth of the DM perturbations picks up after $z_{eq}$!\n",
    "    - notice that the \"bend\" in the power spectrum is basically frozen in place at a scale set by $z_{eq}$.\n",
    "\n",
    "http://www.astro.ljmu.ac.uk/~ikb/teaching/fluctuation-evolve.html"
   ]
  },
  {
   "cell_type": "markdown",
   "metadata": {},
   "source": [
    "To summarize with more words:\n",
    "\n",
    "In the radiation dominated era, once perturbations enter the horizon, growth ceases until matter-radiation.  As the horizon gets larger with time, fluctuations on bigger and bigger scales enter the horizon and cease to grow (the DM perturbations actually grow logarithmically). Fluctuations on scales larger than the horizon, however, can continue to grow (we have not justified this here, and we will not go into these details). This process continues until radiation-matter equality. After $z_{eq}$, the growth of fluctations picks up again. For large enough scales, fluctuations never entered the horizon and thus never halted their growth\n",
    "\n",
    "Thus initial (i.e. primordial) P(k) is **processed to yield P(k) today**. Large scale fluctuations (small k) should retain their primordial shape, whereas small scale fluctuations (large k) were processed as they entered the horizon. **The turnover point in the processed power spectrum is an indication of the horizon size at equality time**.\n",
    "\n",
    "The shape of P(k) today is very dependent on cosmology. It is sensitive to the dark matter and baryon content, the nature of dark matter (HDM, WDM or CDM), the Hubble constant.\n",
    "\n",
    "The form for P(k) shows that the evolution imprints the scale $k_{eq}$ on the power spectrum even though the initial power spectrum is scale invariant. For $k < k_{eq}$ (for large spatial scales), the primordial form of the spectrum is preserved and the evolution only increases the amplitude preserving the shape. For $k > k_{eq}$ (for small spatial scales), the shape is distorted and in general the power is suppressed in comparison with larger spatial scales. This arises because modes with small wavelengths enter the Hubble radius early on and have to wait till the universe becomes matter dominated in order to grow in amplitude. This is in contrast to modes with large wavelengths which continue to grow. "
   ]
  },
  {
   "cell_type": "markdown",
   "metadata": {},
   "source": [
    "You now have a qualitative understanding of the redshift evolution of the dark matter power spectrum! \n",
    "\n",
    "We will now discuss the Jean Length which is highly relevent especially for the baryonic and radiation components."
   ]
  },
  {
   "cell_type": "markdown",
   "metadata": {},
   "source": [
    "## Jeans Length"
   ]
  },
  {
   "cell_type": "markdown",
   "metadata": {
    "collapsed": true
   },
   "source": [
    "Read section 11.2 in Ryden for a more detailed treatement of the Jean Length.\n",
    "\n",
    "For a density perturbation to be stablized by presure against collpaes, it might be smaller than some reference size $\\lambda_{J}$:\n",
    "\n",
    "$$\\lambda_J = c_s \\times \\sqrt{\\frac{\\pi}{G \\times \\rho}} $$\n",
    "\n",
    "where G is the gravitational constant, $c_{s}$ is the sound speed, and $\\rho$ is the enclosed mass density.\n",
    "\n",
    "Overdense regions larger than the Jeans length will collapse under their own gravity. Overdense regions smaller than the Jean length merely oscillate in density, they constitute stable sound waves.\n"
   ]
  },
  {
   "cell_type": "markdown",
   "metadata": {},
   "source": [
    "Prior to recombination, photons and baryons are coupled via compton scattering. They form a single \"photon-baryon fluid\". When a given wavelength enters the horizon, it begins to collapse, and then begins to oscillate because of the large jeans length (high pressure) of the photon-baryon fluid.\n",
    "\n",
    "After recombination, the photons and the baryons form two seperate gases which now evolove independently.\n",
    "\n",
    "When the baryons decouple from the photons, the pressure is dramatically reduced, causing a huge drop in the Jeans mass.\n",
    "\n",
    "This abrupt change marks an important epoch in the history of structure formation. Prior to recombination, perturbations in the baryons could not grow. After recombination, they perturbations in the baryons could suddenly start to grow. **They fall in the deep potential wells already created by DM and quickly catch up to DM**. "
   ]
  },
  {
   "cell_type": "markdown",
   "metadata": {},
   "source": [
    "** IMPORTANT **\n",
    "\n",
    "The fact that dark matter fluctuations grow logarithmically while baryon fluctuations oscillate, is what makes the formation of observed structures feasible in the limited age of the Universe. The observed amplitude of temperature fluctuations in the CMB is too small to ensure structure formation with the observed rate in 13.5 Gyr. The seed fluctuations in the dark matter density perturbations, however, have much larger amplitude because they could grow between the start of the hot Big Bang and today. And the baryons (from which galaxies are formed) fell into the DM potential wells, thus \"inheriting\" the extra growth of fluctuations in the DM."
   ]
  },
  {
   "cell_type": "markdown",
   "metadata": {},
   "source": [
    "Let's' go back to our famous movie:\n",
    "\n",
    "* Before $z=1000$, and for sub-horizon scales, the baryons and the photons are oscillating, these are the Baryonic Acoustic Oscillations. \n",
    "\n",
    "* Watch the baryons decouple from the photons at $z=1000$\n",
    "\n",
    "* With the onset of the matter domination era, the dark matter density perturbations on all scales grow as $\\propto a$, baryons still oscillate due to radiation pressue. After recombination baryonic matter decouples from radiation and is now able to collapse into potential wells created by dark matter. The amplitude of the baryon perturbations thus grows rapidly and catches up with the amplitude of dark matter perturbations. Thereafter, both evolve as $\\delta\\propto a$. \n",
    "\n",
    "* notice that after decoupling, the BAO wiggles still exist in the baryons. These are the wiggles that we measure with surveys such as BOSS and DESI which measure BAO wiggles from galaxy surveys.\n",
    "\n",
    "http://www.astro.ljmu.ac.uk/~ikb/teaching/fluctuation-evolve.html"
   ]
  },
  {
   "cell_type": "markdown",
   "metadata": {},
   "source": [
    "**Are the wiggles also seen in the DM matter power spectrum? **\n",
    "\n",
    "Since the baryons contribute ~15% of the total matter density, the total gravitational potential is affected by the acoustic oscillations with scale set by the sound horizon at $z=1000$. So, yes, all of the matter sees the acoustic oscillations, not just the baryons.\n",
    "\n",
    "This leads to small oscillations in the matter power spectrum P(k). However, they are supressed compared to baryons and radiation by $\\Omega_b/\\Omega_m \\sim 0.1$. And there is a redshift dependent phase shift between the oscilations in the DM and the baryons (see Figure 1 in <a href=\"https://arxiv.org/pdf/astro-ph/0604361.pdf\">Eisenstein, Seo, and White 2007</a>).\n"
   ]
  },
  {
   "cell_type": "markdown",
   "metadata": {},
   "source": [
    "**HOMEWORK**\n",
    "\n",
    "What happends to the perturbations in the photons after $z=1000$? What is free streaming?\n",
    "\n",
    "Hint: read 11.5 in Ryden\n",
    "\n",
    "At the beginning of the next class, I will ask soemone to explain Figure 1 in <a href=\"https://arxiv.org/pdf/astro-ph/0604361.pdf\">Eisenstein, Seo, and White 2007</a>. A nice detailed explanation has also been written up by <a href=\"https://www.cfa.harvard.edu/~deisenst/acousticpeak/acoustic_physics.html\">Daniel Eisenstein</a>.\n"
   ]
  },
  {
   "cell_type": "markdown",
   "metadata": {
    "collapsed": true
   },
   "source": [
    "## Reviewing a few notions from Class 2"
   ]
  },
  {
   "cell_type": "markdown",
   "metadata": {},
   "source": [
    "Temperature fluctuations (anisotropies) $\\Delta_T$ of the CMB expressed as a function of multipole $l$.\n",
    "\n",
    "The *angular wavenumber*, called a multipole l, of the power spectrum is related to the inverse of the angular scale (l=100 is approximately 1 degree). \n",
    "\n",
    "angular scale $\\theta \\propto 180^{\\circ}/l$\n",
    "\n",
    "small $l$ => large angular scales\n",
    "large $l$ => small angualr scales\n",
    "\n",
    "<img width=800 align=center src=\"http://background.uchicago.edu/~whu/animbut/filterall.gif\"></img>"
   ]
  },
  {
   "cell_type": "markdown",
   "metadata": {},
   "source": [
    "* The temperature fluctuations above are plotted in fourier space (hence the wiggles).\n",
    "\n",
    "* Why do we see temperature fluctuations? When an overdensity collpases, the plasma is compressed, increasing the photon density. This produces an increase in temperature and hence in radiation pressure. Any perturbation in the baryon-photon plasma thus behaves as an acoustic wave.\n",
    "\n",
    "* Prior to recombination, baryons and photons are coupled and their perturbations do not grow. The baryons and the photons oscillate in the so-called baryonic acoustic oscillations (BAO). An overdensity will start to collapse under its own gravity, but eventually the build-up of pressure will halt and reverse the expansion. If there is enough time, a perturbation can contract and re-expand several times, a cycle of \"acoustic oscillations\". Because of this effect, there is a preferred scale on which the temperature fluctuations in the CMB are the largest. This is the scale for which an over-dense region has had just enough time to collapse to maximum compression when the universe recombines (and this pattern is thus imprinted onto the CMB).\n",
    "\n",
    "* The length scale of the horizon is just below the first peak at $l\\sim 160$ (See Ch 8 in Ryden). \n",
    "\n",
    "* The angular scale of the first peak $l\\sim 220$ is set by the size of the sounds horizon distance (eq 8.64 Ryden) at the time of last scattering. This is the maximum proper distance that a sounds wave in the photon baryon fluid can have travelled since the big bang. This scale is a \"standard ruler\" whose apparent angular size can be used to measure the geometry of space. "
   ]
  },
  {
   "cell_type": "markdown",
   "metadata": {},
   "source": [
    "For a schematic understanding of the CMB, I recommend\n",
    "\n",
    "*  <a href=\"http://background.uchicago.edu/~whu/intermediate/intermediate.html\">Wayne Hu's tutorial</a>\n",
    "\n",
    "A more in-depth understanding of the CMB, and if you like lectures rather than reading books, you can watch these lectures by Julien Lesgourges given at the Theoretical Advanced Study Institute in Elementary Particle Physics (TASI) summer school:\n",
    "\n",
    "*  <a href=\"https://www.youtube.com/watch?v=FHgTfrAzCdw&t=426s\">You Tube lectures by Julien Lesgourges</a>\n",
    "\n",
    "(there are 5, only 1 is linked above)\n",
    "\n",
    "Along with the corresponding  <a href=\"http://adsabs.harvard.edu/abs/2013arXiv1302.4640L\">arxive lecture notes</a>"
   ]
  },
  {
   "cell_type": "markdown",
   "metadata": {},
   "source": [
    "## Tracers of large scale structure"
   ]
  },
  {
   "cell_type": "markdown",
   "metadata": {},
   "source": [
    "We have seen that different components evolve differently. Which methods can be used to probe various components?\n",
    "\n",
    "* dark matter: with *gravitational lensing* we probe the dark matter component directly\n",
    "* with galaxies: we probe the baryonic component (modulo the complexities of *galaxy biasing*)\n",
    "* with the CMB: we probe the radiation component. The CMB is a snap-shot of the state of the universe at $z=1000$.\n"
   ]
  },
  {
   "cell_type": "markdown",
   "metadata": {},
   "source": [
    "## Transfer Function and Growth factor"
   ]
  },
  {
   "cell_type": "markdown",
   "metadata": {},
   "source": [
    "Our goal is to to more describe the evolution of $P(k,t)$ (as a function of scale and time).\n",
    "\n",
    "At the beginning of this class, we saw that in the linear regime, each mode evoloves independantly. This means that we can use the linearized fluid equations for a given mode $\\delta_k$\n",
    "\n",
    "While the amplitude of each Fourier mode remains small, $\\delta_k<<1$, and linear theory applies, then the evolution of $P$ can be seperated into independent terms:\n",
    "\n",
    "$$P(k,t)=P_i(k)T^2(k)D^2(t)$$\n",
    "\n",
    "* $P_i(t)$ = Initial power spectrum\n",
    "* T(k) = Transfer function\n",
    "* D(t) = Linear growth rate\n",
    "\n",
    "Note: in some notations, the transfer function and the growth function are combined as $T(k,t)$"
   ]
  },
  {
   "cell_type": "markdown",
   "metadata": {},
   "source": [
    "The transfer function captures the evolution of modes from an early time ($a_i$) until some fiducial time shortly ($a_m$) after recombination. \n",
    "\n",
    "$$T(k)=\\Phi_k(a_m)/\\Phi_k(a_i)$$\n",
    "\n",
    "Shortly after recombination, the expansion is still in a matter dominated phase and can be approximated as an EdS ($\\Omega_m=1$) universe. The growth of sub-horizon perturbations in pressureless fluid (i.e., dark matter or baryons past recombination) in an EdS cosmology is **identical to that of super-horizon perturbations** and $D(a) \\propto a$. Thus, the growth of perturbations after recombination becomes simple.\n",
    "\n",
    "The transfer function captures the complexity of the growth of the power spectrum prior to recombination. It captures effects such as:\n",
    "\n",
    "* Meszaros effect (stagnation in pressureless fluid during radiation dominated era) \n",
    "* acoustic oscillations (no net growth due to pressure; Jeans criterion)\n",
    "* Silk damping (damping on small scales due to the fact that photon can diffuse out of small perturbations in photon-baryon fluid)\n",
    "* free-streaming damping (damping on small scales due to non-zero velocity of dark matter)\n",
    "* radiation drag (stagnation that affects baryonic modes prior to equality)\n",
    "\n",
    "(in this class we have discussed some of these effects, but not all)"
   ]
  },
  {
   "cell_type": "markdown",
   "metadata": {},
   "source": [
    "To learn more about the Transfer Function, read the first half of this lecture: <a href=\"http://www.astro.yale.edu/vdbosch/astro610_lecture7.pdf\">van den Bosch, Lecture 7</a>"
   ]
  },
  {
   "cell_type": "markdown",
   "metadata": {},
   "source": [
    "How does the power spectrum evoloves after this fiducial time $a_m$?\n",
    "\n",
    "Once matter and radiation have decoupled, then there is no more pressure term. There is then an analytic solution to the equations governing growth\n",
    "\n",
    "<a href=\"https://arxiv.org/abs/astro-ph/9709054\">An Analytic Expression for the Growth Function in a Flat Universe with a Cosmological Constant, Eisenstein, 1997</a>\n",
    "\n",
    "This approximation will also often be cited: <a href=\"http://adsabs.harvard.edu/abs/1992ARA%26A..30..499C\"> Carroll 1992</a>\n"
   ]
  },
  {
   "cell_type": "markdown",
   "metadata": {},
   "source": [
    "<img width=800 align=left src=\"slidesfigs/astro610_lecture5-18.png\"></img>"
   ]
  },
  {
   "cell_type": "markdown",
   "metadata": {},
   "source": [
    "<img width=800 align=left src=\"slidesfigs/astro610_lecture5-19.png\"></img>"
   ]
  },
  {
   "cell_type": "markdown",
   "metadata": {},
   "source": [
    "<img width=800 align=left src=\"slidesfigs/astro610_lecture5-20.png\"></img>"
   ]
  },
  {
   "cell_type": "markdown",
   "metadata": {},
   "source": [
    "<img width=800 align=left src=\"slidesfigs/astro610_lecture7-17.png\"></img>"
   ]
  },
  {
   "cell_type": "markdown",
   "metadata": {},
   "source": [
    "<img width=800 align=left src=\"slidesfigs/astro610_lecture7-18.png\"></img>"
   ]
  },
  {
   "cell_type": "markdown",
   "metadata": {},
   "source": [
    "# Now time for some fun!"
   ]
  },
  {
   "cell_type": "code",
   "execution_count": 1,
   "metadata": {},
   "outputs": [
    {
     "ename": "ImportError",
     "evalue": "No module named 'classcode'",
     "output_type": "error",
     "traceback": [
      "\u001b[0;31m---------------------------------------------------------------------------\u001b[0m",
      "\u001b[0;31mImportError\u001b[0m                               Traceback (most recent call last)",
      "\u001b[0;32m<ipython-input-1-a7d5b553fb39>\u001b[0m in \u001b[0;36m<module>\u001b[0;34m()\u001b[0m\n\u001b[1;32m      5\u001b[0m \u001b[0;32mimport\u001b[0m \u001b[0mnumpy\u001b[0m \u001b[0;32mas\u001b[0m \u001b[0mnp\u001b[0m\u001b[0;34m\u001b[0m\u001b[0m\n\u001b[1;32m      6\u001b[0m \u001b[0;32mfrom\u001b[0m \u001b[0mmatplotlib\u001b[0m \u001b[0;32mimport\u001b[0m \u001b[0mpylab\u001b[0m \u001b[0;32mas\u001b[0m \u001b[0mplt\u001b[0m\u001b[0;34m\u001b[0m\u001b[0m\n\u001b[0;32m----> 7\u001b[0;31m \u001b[0;32mfrom\u001b[0m \u001b[0mclasscode\u001b[0m\u001b[0;34m.\u001b[0m\u001b[0mplot_utils\u001b[0m \u001b[0;32mimport\u001b[0m \u001b[0mplot_pretty\u001b[0m\u001b[0;34m\u001b[0m\u001b[0m\n\u001b[0m\u001b[1;32m      8\u001b[0m \u001b[0mplot_pretty\u001b[0m\u001b[0;34m(\u001b[0m\u001b[0mdpi\u001b[0m\u001b[0;34m=\u001b[0m\u001b[0;36m300\u001b[0m\u001b[0;34m)\u001b[0m\u001b[0;34m\u001b[0m\u001b[0m\n",
      "\u001b[0;31mImportError\u001b[0m: No module named 'classcode'"
     ]
    }
   ],
   "source": [
    "%matplotlib inline\n",
    "\n",
    "# The cosmology module in colossus\n",
    "from colossus.cosmology import cosmology\n",
    "import numpy as np\n",
    "from matplotlib import pylab as plt\n",
    "from classcode.plot_utils import plot_pretty\n",
    "plot_pretty(dpi=300)"
   ]
  },
  {
   "cell_type": "markdown",
   "metadata": {},
   "source": [
    "First read <a href=\"https://bdiemer.bitbucket.io/cosmology_cosmology.html\">How colossus deals with cosmology</a>   \n",
    "\n",
    "In particular: read the \"methods section\". Do you understand what these functions are doing?"
   ]
  },
  {
   "cell_type": "code",
   "execution_count": 2,
   "metadata": {
    "collapsed": true
   },
   "outputs": [],
   "source": [
    "# define a vector of cosmological parameters    \n",
    "my_cosmo_eds = {'flat': True, 'H0': 73.0, 'Om0': 1, 'Ob0': 0.045714, 'sigma8': 0.74, 'ns': 0.951}\n",
    "my_cosmo_lcdm = {'flat': True, 'H0': 73.0, 'Om0': 0.238, 'Ob0': 0.045714, 'sigma8': 0.74, 'ns': 0.951}\n",
    "\n",
    "# set my_cosmo to be the current cosmology\n",
    "cosmo = cosmology.setCosmology('my_cosmo', my_cosmo_lcdm)  "
   ]
  },
  {
   "cell_type": "markdown",
   "metadata": {},
   "source": [
    "** Your turn **\n",
    "\n",
    "Note: you can choose to do this exercice either with the densities directly, or with the Omega's (normalized by the critical density).\n",
    "\n",
    "* Plot the value of $\\Omega_m$ as a function of redshift. Does this makes sense? Compare with the qualitative trends in the video we watched mutiple times (the \"pie chart\").\n",
    "* Overplot the values of $\\Omega_{lambda}$ and $\\Omega_{gamma}$ (photons). At what redshifts do dark energy, matter, and radiation dominate?\n",
    "* Write down the redshifts at which each component dominates\n",
    "* Print the value of the sound horizon at recombination - what are the units? What are the values in both Mpc and in Mpc/h?"
   ]
  },
  {
   "cell_type": "code",
   "execution_count": 18,
   "metadata": {},
   "outputs": [],
   "source": [
    "# Your code goes here\n"
   ]
  },
  {
   "cell_type": "markdown",
   "metadata": {},
   "source": [
    "Read about the methods *growthFactor* and *growthFactorUnnormalized*"
   ]
  },
  {
   "cell_type": "code",
   "execution_count": 19,
   "metadata": {},
   "outputs": [],
   "source": [
    "# Your code goes here\n",
    "# Plot the growth factor as a function of a (or z). Use log units for the x and the y axes\n",
    "# overplot the redshifts at which different components dominate - notice how the slopes change\n",
    "# Reduce the value of Omega_m (increasing the contribution from dark energy)\n",
    "# Overplot the growth factor in a Einstein de sitter cosmology\n",
    "# How does the growth factor change at low redshifts?\n",
    "\n",
    "\n",
    "\n"
   ]
  },
  {
   "cell_type": "markdown",
   "metadata": {},
   "source": [
    "In the matter domination epoch, when $\\Omega_{\\rm m}=1$ the growth factor is $D_+(a)\\propto a$.\n",
    "\n",
    "Perturbations grow faster in an Einstein-de Sitter (Eds) universe ($\\Omega_{m,0}=1$) than in a universe with $\\Omega_{m,0}<1$. A universe with dark energy has an expansion rate which is larger. It thus has an enhanced Hubble drag term, and perturbations grow more slowly."
   ]
  },
  {
   "cell_type": "markdown",
   "metadata": {
    "slideshow": {
     "slide_type": "slide"
    }
   },
   "source": [
    "### Radiation-domination regime and the bend in the power spectrum\n",
    "\n",
    "Super-horizon and sub-horizon modes grow differently. This transforms the primordial $P(k)\\propto k^{n_s}$ power spectrum  into the power spectrum with a bend at $k_{\\rm eq}$ corresponding to the scale that entered the horizon at $a=a_{\\rm eq}$ with asymptotic power law spectra: $P(k)\\propto k^{n_s}$ for $k\\ll k_{\\rm eq}$ and $P(k)\\propto k^3$ for $k\\gg k_{\\rm eq}$ with the logarithmically changing slope at intermediate $k$.   \n",
    "\n",
    "The exact \"processing\" of the primordial matter power spectrum must be computed by integrating the Boltzmann equation for the evolution of perturbations in the early plasma. Some codes that does this are <a href=\"http://camb.info/\">CAMB</a> or <a href=\"http://class-code.net/\">CLASS</a>. \n",
    "\n",
    "The result of this processing is *the transfer function* $T^2(k)$: \n",
    "\n",
    "$$P(k) \\propto T(k)^2  k^{n_s}.$$\n",
    "\n",
    "\n",
    "**TO REMEMBER** The total growth of waves with $\\lambda<\\lambda_{eq}$ is suppressed with respect to larger-scale perturbations, because their growth is temporarily halted as they enter the Horizon during radiation domination (recall our movie and the supression of growth as modes enter the horizon). This leads to $T(k)$ bending gradually from $T (k)=1$ for $k<k_{eq}$ and $T(k)\\propto k^{−2}$ on small scales.\n"
   ]
  },
  {
   "cell_type": "markdown",
   "metadata": {
    "slideshow": {
     "slide_type": "slide"
    }
   },
   "source": [
    "### Power spectrum in the $\\Lambda$CDM model\n",
    "\n",
    "Approximations to the $T(k)$ accurate to $\\approx 1-2\\%$ were provided by <a href=\"http://adsabs.harvard.edu/abs/1998ApJ...496..605E\">Eisenstein & Hu (1998)</a> and are implemented in the <a href=\"http://www.benediktdiemer.com/code/colossus/\">colossus package</a> that we've been using."
   ]
  },
  {
   "cell_type": "markdown",
   "metadata": {},
   "source": [
    "Read about the method *matterPowerSpectrum*"
   ]
  },
  {
   "cell_type": "code",
   "execution_count": 23,
   "metadata": {},
   "outputs": [
    {
     "data": {
      "image/png": "[encoded data removed]",
      "text/plain": [
       "<matplotlib.figure.Figure at 0x110553710>"
      ]
     },
     "metadata": {
      "image/png": {
       "height": 504,
       "width": 548
      }
     },
     "output_type": "display_data"
    }
   ],
   "source": [
    "# define a vector of cosmological parameters:    \n",
    "my_cosmo = {'flat': True, 'H0': 70.0, 'Om0': 0.27, 'Ob0': 0.045714, 'sigma8': 0.82, 'ns': 0.96}\n",
    "# set my_cosmo to be the current cosmology\n",
    "cosmo = cosmology.setCosmology('my_cosmo', my_cosmo)\n",
    "cosmo.interpolation = False\n",
    "\n",
    "# input model spectrum for comparison\n",
    "lka = np.arange(-4.,3.,0.02)   # k in log\n",
    "ka = 10.0**lka                 # k in linear\n",
    "Pka = cosmo.matterPowerSpectrum(ka, 'eh98')\n",
    "cosmo.interpolation = True\n",
    "dPdka = cosmo.matterPowerSpectrum(ka, 'eh98', derivative=True) # take the derivative\n",
    "\n",
    "# plot P(k) \n",
    "plot_pretty()\n",
    "plt.figure(figsize=(3,3))\n",
    "plt.xscale('log')\n",
    "plt.yscale('log')\n",
    "plt.ylim(1.e-2, 1.e5)\n",
    "plt.xlim(1.e-4, 1.e2)\n",
    "plt.plot(ka, Pka, c='slateblue', linewidth=2., label=r'$\\Lambda\\mathrm{CDM}:\\ \\Omega_{\\rm m}=%.1f\\ \\Omega_\\Lambda=%.1f$'%(cosmo.Om0,cosmo.OL0))\n",
    "plt.legend(frameon=False, loc='lower left', fontsize=7, scatterpoints=1)\n",
    "plt.xlabel(r'$k\\ (h\\rm\\ Mpc^{-1})$')\n",
    "plt.ylabel(r'$P(k)\\ (h^{-3}\\ \\rm Mpc^3)$')\n",
    "plt.grid(linestyle='dotted', c='lightgray')\n",
    "plt.savefig('fig/pk.png', bbox_inches='tight')\n",
    "plt.show()"
   ]
  },
  {
   "cell_type": "code",
   "execution_count": 24,
   "metadata": {},
   "outputs": [
    {
     "data": {
      "image/png": "[encoded data removed]",
      "text/plain": [
       "<matplotlib.figure.Figure at 0x1123325f8>"
      ]
     },
     "metadata": {
      "image/png": {
       "height": 504,
       "width": 547
      }
     },
     "output_type": "display_data"
    }
   ],
   "source": [
    "# plot the slope of P(k) = dlnP(k)/dlnk = k/P*dP/dk\n",
    "\n",
    "plt.figure(figsize=(3,3))\n",
    "plt.xscale('log'); \n",
    "plt.xlim(1.e-4, 1.e2); plt.ylim(-3, 1.)\n",
    "plt.plot(ka, dPdka, c='slateblue', linewidth=2., label=r'$\\Lambda\\mathrm{CDM}:\\ \\Omega_{\\rm m}=%.1f\\ \\Omega_\\Lambda=%.1f$'%(cosmo.Om0,cosmo.OL0))  \n",
    "plt.legend(frameon=False, loc='lower left', fontsize=7, scatterpoints=1)\n",
    "plt.xlabel(r'$k\\ (h\\rm\\ Mpc^{-1})$')\n",
    "plt.ylabel(r'$d\\ln P(k)/d\\ln k$')\n",
    "plt.grid(linestyle='dotted', c='lightgray')\n",
    "plt.savefig('fig/pk_slope.png', bbox_inches='tight')\n",
    "plt.show()"
   ]
  },
  {
   "cell_type": "markdown",
   "metadata": {},
   "source": [
    "Question: the MPS evoloves with redshift. But the MPS in colossus above has no dependence on z. How does one compute P(k,z)?\n",
    "\n",
    "Compute the MPS a several redshifts and overplot the results.\n",
    "\n",
    "Change the $\\sigma_8$ parameter in the cosmology. How does the MPS at $z=0$ change when you vary $\\sigma_8$?"
   ]
  },
  {
   "cell_type": "code",
   "execution_count": null,
   "metadata": {
    "collapsed": true
   },
   "outputs": [],
   "source": [
    "# Your code goes here"
   ]
  },
  {
   "cell_type": "markdown",
   "metadata": {},
   "source": [
    "**TO REMEMBER**\n",
    "* what is the slope of the power spectrum on large scales (small k)? How is this connected with $n_s$?\n",
    "* at what scales does the bend in the MPS take place?\n",
    "* what is the slope of the MPS on small scales (large k)?"
   ]
  },
  {
   "cell_type": "markdown",
   "metadata": {},
   "source": [
    "** IMPORTANT **\n",
    "\n",
    "So far we have only discussed the *linear* MPS. The plots you made above are also the *linear* MPS. On small scales, the MPS becomes *non-linear*. This is the topic of our next class."
   ]
  },
  {
   "cell_type": "markdown",
   "metadata": {},
   "source": [
    "** Finish the exercises above and upload your notebook to your git repository and please send me the link to your repo.**"
   ]
  },
  {
   "cell_type": "markdown",
   "metadata": {},
   "source": [
    "Homework for the next class: \n",
    "\n",
    "* read about the *shell theorem*  \n",
    "https://en.wikipedia.org/wiki/Shell_theorem\n",
    "\n",
    "* Read up to section 3.3 :\n",
    "https://ned.ipac.caltech.edu/level5/Sept12/Kravtsov/Kravtsov3.html\n",
    "\n",
    "* Look through:\n",
    "CodeDemos/colossus_demo_cosmology.ipynb\n"
   ]
  },
  {
   "cell_type": "code",
   "execution_count": null,
   "metadata": {
    "collapsed": true
   },
   "outputs": [],
   "source": []
  }
 ],
 "metadata": {
  "celltoolbar": "Slideshow",
  "kernelspec": {
   "display_name": "Python 3",
   "language": "python",
   "name": "python3"
  },
  "language_info": {
   "codemirror_mode": {
    "name": "ipython",
    "version": 3
   },
   "file_extension": ".py",
   "mimetype": "text/x-python",
   "name": "python",
   "nbconvert_exporter": "python",
   "pygments_lexer": "ipython3",
   "version": "3.5.2"
  }
 },
 "nbformat": 4,
 "nbformat_minor": 1
}
